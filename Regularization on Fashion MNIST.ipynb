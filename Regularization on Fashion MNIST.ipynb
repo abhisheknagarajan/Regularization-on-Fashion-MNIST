{
 "cells": [
  {
   "cell_type": "markdown",
   "id": "20c160e7",
   "metadata": {},
   "source": [
    "# FASHION MNIST (Regularization)"
   ]
  },
  {
   "cell_type": "code",
   "execution_count": 85,
   "id": "066cc381",
   "metadata": {},
   "outputs": [],
   "source": [
    "import tensorflow as tf\n",
    "import numpy as np\n",
    "import pandas as pd\n",
    "import matplotlib.pyplot as plt\n",
    "from tensorflow.keras.models import Sequential\n",
    "from tensorflow.keras.layers import Dense "
   ]
  },
  {
   "cell_type": "code",
   "execution_count": 86,
   "id": "dfd8163b",
   "metadata": {},
   "outputs": [],
   "source": [
    "# Initialize the random number generator\n",
    "import random\n",
    "random.seed(5)\n",
    "\n",
    "# Ignore the warnings\n",
    "import warnings\n",
    "warnings.filterwarnings(\"ignore\")"
   ]
  },
  {
   "cell_type": "markdown",
   "id": "c8dce287",
   "metadata": {},
   "source": [
    "<b>Fashion MNIST dataset</b>\n",
    "\n",
    "This is a dataset of 60,000 28x28 grayscale images of 10 fashion categories, along with a test set of 10,000 images. This dataset can be used as a drop-in replacement for MNIST.\n",
    "\n",
    "The classes are:\n",
    "\n",
    "Label and Description<br><br>\n",
    "0\tT-shirt/top<br>\n",
    "1\tTrouser<br>\n",
    "2\tPullover<br>\n",
    "3\tDress<br>\n",
    "4\tCoat<br>\n",
    "5\tSandal<br>\n",
    "6\tShirt<br>\n",
    "7\tSneaker<br>\n",
    "8\tBag<br>\n",
    "9\tAnkle boot<br>"
   ]
  },
  {
   "cell_type": "code",
   "execution_count": 87,
   "id": "8ef5e33a",
   "metadata": {},
   "outputs": [],
   "source": [
    "# Loading the datasets\n",
    "from tensorflow.keras.datasets import fashion_mnist\n",
    "(X_train,y_train),(X_test,y_test) = fashion_mnist.load_data()"
   ]
  },
  {
   "cell_type": "code",
   "execution_count": 88,
   "id": "71947c4f",
   "metadata": {},
   "outputs": [
    {
     "name": "stdout",
     "output_type": "stream",
     "text": [
      "(60000, 28, 28)\n",
      "(60000,)\n",
      "(10000, 28, 28)\n",
      "(10000,)\n"
     ]
    }
   ],
   "source": [
    "# Checking the shape of X_train, X_test, y_train, y_test\n",
    "print(X_train.shape)\n",
    "print(y_train.shape)\n",
    "print(X_test.shape)\n",
    "print(y_test.shape)"
   ]
  },
  {
   "cell_type": "markdown",
   "id": "db02d889",
   "metadata": {},
   "source": [
    "Since there is no channel, indicating that this is a single channel problem\n",
    "\n",
    "Hence we do not convert into RGB to Grayscale"
   ]
  },
  {
   "cell_type": "code",
   "execution_count": 89,
   "id": "318ae997",
   "metadata": {},
   "outputs": [
    {
     "data": {
      "text/plain": [
       "<matplotlib.image.AxesImage at 0x279a503ca90>"
      ]
     },
     "execution_count": 89,
     "metadata": {},
     "output_type": "execute_result"
    },
    {
     "data": {
      "image/png": "[encoded data removed]",
      "text/plain": [
       "<Figure size 432x288 with 1 Axes>"
      ]
     },
     "metadata": {
      "needs_background": "light"
     },
     "output_type": "display_data"
    }
   ],
   "source": [
    "plt.imshow(X_train[1])"
   ]
  },
  {
   "cell_type": "code",
   "execution_count": 90,
   "id": "db0b8edc",
   "metadata": {},
   "outputs": [
    {
     "data": {
      "text/plain": [
       "0"
      ]
     },
     "execution_count": 90,
     "metadata": {},
     "output_type": "execute_result"
    }
   ],
   "source": [
    "y_train[1]"
   ]
  },
  {
   "cell_type": "markdown",
   "id": "538ff5e8",
   "metadata": {},
   "source": [
    "### Data Pre-Processing"
   ]
  },
  {
   "cell_type": "code",
   "execution_count": 91,
   "id": "fc47d376",
   "metadata": {},
   "outputs": [
    {
     "name": "stdout",
     "output_type": "stream",
     "text": [
      "(60000, 784)\n",
      "(10000, 784)\n"
     ]
    }
   ],
   "source": [
    "# Reshaping the Image\n",
    "\n",
    "X_train1 = X_train.reshape(60000,28*28)\n",
    "X_test1 = X_test.reshape(10000,28*28)\n",
    "print(X_train1.shape)\n",
    "print(X_test1.shape)"
   ]
  },
  {
   "cell_type": "code",
   "execution_count": 92,
   "id": "3a655408",
   "metadata": {},
   "outputs": [],
   "source": [
    "# Normalizing the Image\n",
    "\n",
    "X_train2 = X_train1/255.\n",
    "X_test2 = X_test1/255."
   ]
  },
  {
   "cell_type": "markdown",
   "id": "8ef0ab75",
   "metadata": {},
   "source": [
    "### One-Hot Encoding the Class Vector"
   ]
  },
  {
   "cell_type": "code",
   "execution_count": 93,
   "id": "a4df63d6",
   "metadata": {},
   "outputs": [
    {
     "name": "stdout",
     "output_type": "stream",
     "text": [
      "y_train shape (60000,)\n",
      "y_test shape (10000,)\n"
     ]
    }
   ],
   "source": [
    "print('y_train shape',y_train.shape)\n",
    "print('y_test shape',y_test.shape)"
   ]
  },
  {
   "cell_type": "code",
   "execution_count": 94,
   "id": "3e4ca887",
   "metadata": {},
   "outputs": [],
   "source": [
    "# Converting a class labels vector (Integer) to Binary class Matrix\n",
    "\n",
    "from tensorflow.keras.utils import to_categorical\n",
    "\n",
    "y_train1 = to_categorical(y_train,num_classes=10)\n",
    "y_test1 = to_categorical(y_test,num_classes=10)"
   ]
  },
  {
   "cell_type": "code",
   "execution_count": 95,
   "id": "3f9d1fab",
   "metadata": {},
   "outputs": [
    {
     "name": "stdout",
     "output_type": "stream",
     "text": [
      "0\n"
     ]
    },
    {
     "data": {
      "text/plain": [
       "array([1., 0., 0., 0., 0., 0., 0., 0., 0., 0.], dtype=float32)"
      ]
     },
     "execution_count": 95,
     "metadata": {},
     "output_type": "execute_result"
    }
   ],
   "source": [
    "print(y_train[1])\n",
    "y_train1[1]\n",
    "# hence using to_categorical we can fetch the binary classified output of 0 - [1,0,0,0,0,0,0,0,0,0]"
   ]
  },
  {
   "cell_type": "markdown",
   "id": "6269bdb8",
   "metadata": {},
   "source": [
    "### # Model Building"
   ]
  },
  {
   "cell_type": "code",
   "execution_count": 96,
   "id": "41a3794e",
   "metadata": {},
   "outputs": [],
   "source": [
    "from tensorflow.keras.models import Sequential\n",
    "from tensorflow.keras.layers import Dense\n",
    "from tensorflow.keras import regularizers,optimizers"
   ]
  },
  {
   "cell_type": "code",
   "execution_count": 97,
   "id": "a5a16bbf",
   "metadata": {},
   "outputs": [],
   "source": [
    "# hyperparamaters\n",
    "\n",
    "def train_and_test_loop(iterations, lr, Lambda):\n",
    "\n",
    "    ## hyperparameters\n",
    "    iterations = iterations\n",
    "    learning_rate = lr\n",
    "        \n",
    "    model = Sequential()\n",
    "    ### Write your code here\n",
    "    model.add(Dense(units=128,activation='relu',input_shape=(784,)))\n",
    "    model.add(Dense(units=64,activation='relu'))\n",
    "    model.add(Dense(units=32,activation='relu'))\n",
    "    model.add(Dense(units=10,activation='softmax',kernel_regularizer=regularizers.l2(lamda)))\n",
    "    \n",
    "    # Regularization\n",
    "    sgd = optimizers.SGD(lr=learning_rate)\n",
    "    \n",
    "    # Compile model\n",
    "    model.compile(loss='categorical_crossentropy', optimizer=sgd, metrics=['accuracy'])\n",
    "    \n",
    "    # Fit the model\n",
    "    model.fit(X_train2, y_train1, epochs=iterations, batch_size=1000, verbose= 0)\n",
    "    \n",
    "    # Model Evaluation\n",
    "    score = model.evaluate(X_test2,y_test1)\n",
    "    \n",
    "    return score"
   ]
  },
  {
   "cell_type": "code",
   "execution_count": 98,
   "id": "a3eb6320",
   "metadata": {},
   "outputs": [
    {
     "name": "stdout",
     "output_type": "stream",
     "text": [
      "313/313 [==============================] - 2s 3ms/step - loss: 0.7107 - accuracy: 0.7538\n"
     ]
    },
    {
     "data": {
      "text/plain": [
       "[0.7107227444648743, 0.7537999749183655]"
      ]
     },
     "execution_count": 98,
     "metadata": {},
     "output_type": "execute_result"
    }
   ],
   "source": [
    "lr = 0.001\n",
    "Lambda = 0\n",
    "train_and_test_loop(100, lr, Lambda)"
   ]
  },
  {
   "cell_type": "code",
   "execution_count": 99,
   "id": "3870ae64",
   "metadata": {},
   "outputs": [
    {
     "name": "stdout",
     "output_type": "stream",
     "text": [
      "Model: \"sequential_5\"\n",
      "_________________________________________________________________\n",
      "Layer (type)                 Output Shape              Param #   \n",
      "=================================================================\n",
      "dense_14 (Dense)             (None, 256)               200960    \n",
      "_________________________________________________________________\n",
      "dense_15 (Dense)             (None, 128)               32896     \n",
      "_________________________________________________________________\n",
      "dense_16 (Dense)             (None, 10)                1290      \n",
      "=================================================================\n",
      "Total params: 235,146\n",
      "Trainable params: 235,146\n",
      "Non-trainable params: 0\n",
      "_________________________________________________________________\n"
     ]
    }
   ],
   "source": [
    "# Summary of the Model\n",
    "model.summary()"
   ]
  },
  {
   "cell_type": "markdown",
   "id": "88fd12de",
   "metadata": {},
   "source": [
    "### Predicting the Model"
   ]
  },
  {
   "cell_type": "code",
   "execution_count": 100,
   "id": "688c3896",
   "metadata": {},
   "outputs": [
    {
     "data": {
      "text/plain": [
       "array([[0., 0., 1., 0., 0., 0., 0., 0., 0., 0.]], dtype=float32)"
      ]
     },
     "execution_count": 100,
     "metadata": {},
     "output_type": "execute_result"
    }
   ],
   "source": [
    "model.predict(X_test2[1].reshape(1,-1)).round()\n",
    "# round (): is to predict the Probability to 0 and 1\n",
    "# reshape (1,-1) : to make input shape same as that of Training Shape"
   ]
  },
  {
   "cell_type": "code",
   "execution_count": 101,
   "id": "3c57aa7d",
   "metadata": {},
   "outputs": [
    {
     "data": {
      "text/plain": [
       "<matplotlib.image.AxesImage at 0x279a53b7e10>"
      ]
     },
     "execution_count": 101,
     "metadata": {},
     "output_type": "execute_result"
    },
    {
     "data": {
      "image/png": "[encoded data removed]",
      "text/plain": [
       "<Figure size 432x288 with 1 Axes>"
      ]
     },
     "metadata": {
      "needs_background": "light"
     },
     "output_type": "display_data"
    }
   ],
   "source": [
    "plt.imshow(X_test[1])"
   ]
  },
  {
   "cell_type": "code",
   "execution_count": 102,
   "id": "59fafad5",
   "metadata": {},
   "outputs": [
    {
     "data": {
      "text/plain": [
       "2"
      ]
     },
     "execution_count": 102,
     "metadata": {},
     "output_type": "execute_result"
    }
   ],
   "source": [
    "y_test[1]"
   ]
  },
  {
   "cell_type": "markdown",
   "id": "817b961a",
   "metadata": {},
   "source": [
    "From the above Analysis, we can see that X_test shows an Image of a Pullover and y_test indicates the Label number for Pullover as 2"
   ]
  },
  {
   "cell_type": "markdown",
   "id": "a30b6226",
   "metadata": {},
   "source": [
    "# Run Coarse"
   ]
  },
  {
   "cell_type": "code",
   "execution_count": 104,
   "id": "47486318",
   "metadata": {},
   "outputs": [
    {
     "name": "stdout",
     "output_type": "stream",
     "text": [
      "313/313 [==============================] - 1s 1ms/step - loss: 2.3226 - accuracy: 0.0730\n",
      "Try 1/10: Best_val_acc: [2.3225865364074707, 0.0729999989271164], lr: 7.575884954938135e-06, Lambda: 0.00023145091023371383\n",
      "\n",
      "313/313 [==============================] - 1s 2ms/step - loss: 2.2107 - accuracy: 0.2478\n",
      "Try 2/10: Best_val_acc: [2.210728168487549, 0.24779999256134033], lr: 5.755081476312067e-05, Lambda: 6.132886145765596e-07\n",
      "\n",
      "313/313 [==============================] - 1s 2ms/step - loss: 1.4904 - accuracy: 0.5817\n",
      "Try 3/10: Best_val_acc: [1.4904009103775024, 0.5817000269889832], lr: 0.0005284724051545576, Lambda: 0.004173242059761579\n",
      "\n",
      "313/313 [==============================] - 1s 1ms/step - loss: 2.3313 - accuracy: 0.0742\n",
      "Try 4/10: Best_val_acc: [2.331256866455078, 0.07419999688863754], lr: 1.7300416272787675e-06, Lambda: 0.004775465910309454\n",
      "\n",
      "313/313 [==============================] - 1s 2ms/step - loss: 0.5082 - accuracy: 0.8222\n",
      "Try 5/10: Best_val_acc: [0.508249044418335, 0.8222000002861023], lr: 0.0074606442195087426, Lambda: 0.009568819941968221\n",
      "\n",
      "313/313 [==============================] - 1s 2ms/step - loss: 2.3626 - accuracy: 0.1155\n",
      "Try 6/10: Best_val_acc: [2.3625569343566895, 0.11550000309944153], lr: 6.580303735458845e-07, Lambda: 0.0015402123843255469\n",
      "\n",
      "313/313 [==============================] - 1s 2ms/step - loss: nan - accuracy: 0.1000\n",
      "Try 7/10: Best_val_acc: [nan, 0.10000000149011612], lr: 15.997567633588599, Lambda: 7.95704363139166e-06\n",
      "\n",
      "313/313 [==============================] - ETA: 0s - loss: nan - accuracy: 0.099 - 1s 2ms/step - loss: nan - accuracy: 0.1000\n",
      "Try 8/10: Best_val_acc: [nan, 0.10000000149011612], lr: 79.15651824414367, Lambda: 1.3590059688292394e-07\n",
      "\n",
      "313/313 [==============================] - 1s 2ms/step - loss: nan - accuracy: 0.1000\n",
      "Try 9/10: Best_val_acc: [nan, 0.10000000149011612], lr: 15.120244497325663, Lambda: 0.003872269422727547\n",
      "\n"
     ]
    }
   ],
   "source": [
    "import math\n",
    "for k in range(1,10):\n",
    "    lr = math.pow(10, np.random.uniform(-7.0, 3.0))\n",
    "    Lambda = math.pow(10, np.random.uniform(-7,-2))\n",
    "    best_acc = train_and_test_loop(50, lr, Lambda)\n",
    "    print(\"Try {0}/{1}: Best_val_acc: {2}, lr: {3}, Lambda: {4}\\n\".format(k, 10, best_acc, lr, Lambda))"
   ]
  },
  {
   "cell_type": "code",
   "execution_count": null,
   "id": "e2d37592",
   "metadata": {},
   "outputs": [],
   "source": [
    "# ****************************************************************************************************** #"
   ]
  },
  {
   "cell_type": "code",
   "execution_count": null,
   "id": "e61085d8",
   "metadata": {},
   "outputs": [],
   "source": []
  },
  {
   "cell_type": "code",
   "execution_count": null,
   "id": "1ef9408c",
   "metadata": {},
   "outputs": [],
   "source": []
  },
  {
   "cell_type": "code",
   "execution_count": null,
   "id": "f2e04785",
   "metadata": {},
   "outputs": [],
   "source": []
  }
 ],
 "metadata": {
  "kernelspec": {
   "display_name": "Python 3",
   "language": "python",
   "name": "python3"
  },
  "language_info": {
   "codemirror_mode": {
    "name": "ipython",
    "version": 3
   },
   "file_extension": ".py",
   "mimetype": "text/x-python",
   "name": "python",
   "nbconvert_exporter": "python",
   "pygments_lexer": "ipython3",
   "version": "3.6.13"
  }
 },
 "nbformat": 4,
 "nbformat_minor": 5
}
